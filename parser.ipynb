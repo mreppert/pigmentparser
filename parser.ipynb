{
 "cells": [
  {
   "cell_type": "markdown",
   "metadata": {},
   "source": [
    "# Pigment Parser #"
   ]
  },
  {
   "cell_type": "code",
   "execution_count": 1,
   "metadata": {},
   "outputs": [
    {
     "name": "stdout",
     "output_type": "stream",
     "text": [
      "This is a test. File in development.\n"
     ]
    }
   ],
   "source": [
    "print(\"This is a test. File in development.\")"
   ]
  },
  {
   "cell_type": "code",
   "execution_count": null,
   "metadata": {},
   "outputs": [],
   "source": [
    "import math\n",
    "import time\n",
    "import numpy as np\n",
    "import hublib.ui as ui\n",
    "import hublib.tool as tool\n",
    "from IPython.display import Javascript, display\n",
    "import ipywidgets as widgets \n",
    "import re\n",
    "\n",
    "#Upload Button\n",
    "def done_cb(w, name):\n",
    "    print(\"%s uploaded\" % name)\n",
    "    w.reset()\n",
    "    \n",
    "f = ui.FileUpload(\"Protein Data Bank file\", \n",
    "               \"PDB File Upload\",\n",
    "               dir='tmpdir',\n",
    "               cb=done_cb,\n",
    "               maxsize='100M')\n",
    "\n",
    "\n",
    "#Run All Below Button\n",
    "def run_all(ev):\n",
    "    display(Javascript('IPython.notebook.execute_cell_range(IPython.notebook.get_selected_index()+1, IPython.notebook.ncells())'))\n",
    "button = widgets.Button(description=\"Run all below\")\n",
    "button.on_click(run_all)\n",
    "display(f)\n",
    "display(button)\n",
    "\n",
    "#ParsePDB\n",
    "\n",
    "#Matrix for ND atom coordinates\n",
    "search=open(Prfiletext,'r').readlines()\n",
    "NDMatrix=[]\n",
    "for line in search:\n",
    "    if re.match(\"(HETATM)(.*ND)\", line):\n",
    "        y = line.split()\n",
    "        if len(y)==11:\n",
    "            ChlID=str(y[3])+str(y[4])\n",
    "            x_coord=float(y[5])\n",
    "            y_coord=float(y[6])\n",
    "            z_coord=float(y[7])\n",
    "            Chl_atom=y[10]\n",
    "        if len(y)==10:\n",
    "            ChlID=str(y[3])\n",
    "            x_coord=float(y[4])\n",
    "            y_coord=float(y[5])\n",
    "            z_coord=float(y[6])\n",
    "            Chl_atom=y[9]\n",
    "        coord=[x_coord, y_coord, z_coord]\n",
    "        NDMatrix.append(coord)\n",
    "        #print(NDMatrix)\n",
    "    \n",
    "#Matrix for NB atom coordinates\n",
    "search=open(Prfiletext,'r').readlines()\n",
    "NBMatrix=[]\n",
    "for line in search:\n",
    "    if re.match(\"(HETATM)(.*NB)\", line):\n",
    "        y = line.split()\n",
    "        if len(y)==11:\n",
    "            ChlID=str(y[3])+str(y[4])\n",
    "            x_coord=float(y[5])\n",
    "            y_coord=float(y[6])\n",
    "            z_coord=float(y[7])\n",
    "            Chl_atom=y[10]\n",
    "        if len(y)==10:\n",
    "            ChlID=str(y[3])\n",
    "            x_coord=float(y[4])\n",
    "            y_coord=float(y[5])\n",
    "            z_coord=float(y[6])\n",
    "            Chl_atom=y[9]\n",
    "        coord=[x_coord, y_coord, z_coord]\n",
    "        NBMatrix.append(coord)\n",
    "        #print(NBMatrix)\n",
    "\n",
    "#Calculate Dipole\n",
    "D = np.subtract(NDMatrix, NBMatrix)\n",
    "print(D)"
   ]
  },
  {
   "cell_type": "code",
   "execution_count": null,
   "metadata": {},
   "outputs": [],
   "source": []
  }
 ],
 "metadata": {
  "kernelspec": {
   "display_name": "Python 3",
   "language": "python",
   "name": "python3"
  },
  "language_info": {
   "codemirror_mode": {
    "name": "ipython",
    "version": 3
   },
   "file_extension": ".py",
   "mimetype": "text/x-python",
   "name": "python",
   "nbconvert_exporter": "python",
   "pygments_lexer": "ipython3",
   "version": "3.7.3"
  }
 },
 "nbformat": 4,
 "nbformat_minor": 4
}
